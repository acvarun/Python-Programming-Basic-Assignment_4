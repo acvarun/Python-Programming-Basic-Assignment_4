{
 "cells": [
  {
   "cell_type": "code",
   "execution_count": 3,
   "id": "aec03efe",
   "metadata": {},
   "outputs": [
    {
     "name": "stdout",
     "output_type": "stream",
     "text": [
      "6\n",
      "720\n"
     ]
    }
   ],
   "source": [
    "#1.\tWrite a Python Program to Find the Factorial of a Number?\n",
    "n=int(input())\n",
    "F=1\n",
    "for i in range(1,n+1):\n",
    "    F=i*F\n",
    "print(F)"
   ]
  },
  {
   "cell_type": "code",
   "execution_count": 5,
   "id": "3365ee41",
   "metadata": {},
   "outputs": [
    {
     "name": "stdout",
     "output_type": "stream",
     "text": [
      "4\n",
      "4 * 1 = 4\n",
      "4 * 2 = 8\n",
      "4 * 3 = 12\n",
      "4 * 4 = 16\n",
      "4 * 5 = 20\n",
      "4 * 6 = 24\n",
      "4 * 7 = 28\n",
      "4 * 8 = 32\n",
      "4 * 9 = 36\n",
      "4 * 10 = 40\n"
     ]
    }
   ],
   "source": [
    "#2.\tWrite a Python Program to Display the multiplication Table?\n",
    "n=int(input())\n",
    "m=1\n",
    "for i in range(1,11):\n",
    "    m=n*i\n",
    "    print(n,\"*\",i,\"=\",m)"
   ]
  },
  {
   "cell_type": "code",
   "execution_count": 31,
   "id": "bdd336ae",
   "metadata": {},
   "outputs": [
    {
     "name": "stdout",
     "output_type": "stream",
     "text": [
      "0\n",
      "1\n",
      "1\n",
      "2\n",
      "3\n",
      "5\n",
      "8\n",
      "13\n",
      "21\n",
      "34\n"
     ]
    }
   ],
   "source": [
    "#3.\tWrite a Python Program to Print the Fibonacci sequence?\n",
    "a=0\n",
    "b=1\n",
    "for i in range(0,10):\n",
    "    print(a)\n",
    "    a,b=b,b+a"
   ]
  },
  {
   "cell_type": "code",
   "execution_count": 25,
   "id": "51e615f2",
   "metadata": {},
   "outputs": [
    {
     "name": "stdout",
     "output_type": "stream",
     "text": [
      "370\n",
      "armstrong number\n"
     ]
    }
   ],
   "source": [
    "#4.\tWrite a Python Program to Check Armstrong Number?\n",
    "n=int(input())\n",
    "count=0\n",
    "sum=0\n",
    "a=n\n",
    "b=n\n",
    "while a>0:\n",
    "    a=a//10\n",
    "    count=count+1\n",
    "while b>0:\n",
    "    digit=b%10\n",
    "    b=b//10\n",
    "    sum=digit**count+sum\n",
    "if n==sum:\n",
    "    print(\"armstrong number\")\n",
    "else :\n",
    "    print(\"not armstrong number\")\n"
   ]
  },
  {
   "cell_type": "code",
   "execution_count": 27,
   "id": "d6f95407",
   "metadata": {},
   "outputs": [
    {
     "name": "stdout",
     "output_type": "stream",
     "text": [
      "0\n",
      "1\n",
      "2\n",
      "3\n",
      "4\n",
      "5\n",
      "6\n",
      "7\n",
      "8\n",
      "9\n",
      "153\n",
      "370\n",
      "371\n",
      "407\n",
      "1634\n"
     ]
    }
   ],
   "source": [
    "#5.\tWrite a Python Program to Find Armstrong Number in an Interval?\n",
    "for i in range(0,5000):\n",
    "    count=0\n",
    "    sum=0\n",
    "    a=i\n",
    "    b=i\n",
    "    while a>0:\n",
    "        a=a//10\n",
    "        count=count+1\n",
    "    while b>0:\n",
    "        digit=b%10\n",
    "        b=b//10\n",
    "        sum=digit**count+sum\n",
    "    if i==sum:\n",
    "        print(i)"
   ]
  },
  {
   "cell_type": "code",
   "execution_count": 31,
   "id": "bbb8c604",
   "metadata": {},
   "outputs": [
    {
     "name": "stdout",
     "output_type": "stream",
     "text": [
      "Enter total number of natural numbers:50\n",
      "1275\n"
     ]
    }
   ],
   "source": [
    "#6.\tWrite a Python Program to Find the Sum of Natural Numbers?\n",
    "n=int(input(\"Enter total number of natural numbers:\"))\n",
    "sum=0\n",
    "for i in range(1,n+1):\n",
    "    sum=sum+i\n",
    "print(sum)"
   ]
  },
  {
   "cell_type": "code",
   "execution_count": null,
   "id": "63edfd8f",
   "metadata": {},
   "outputs": [],
   "source": []
  }
 ],
 "metadata": {
  "kernelspec": {
   "display_name": "Python 3 (ipykernel)",
   "language": "python",
   "name": "python3"
  },
  "language_info": {
   "codemirror_mode": {
    "name": "ipython",
    "version": 3
   },
   "file_extension": ".py",
   "mimetype": "text/x-python",
   "name": "python",
   "nbconvert_exporter": "python",
   "pygments_lexer": "ipython3",
   "version": "3.9.7"
  }
 },
 "nbformat": 4,
 "nbformat_minor": 5
}
